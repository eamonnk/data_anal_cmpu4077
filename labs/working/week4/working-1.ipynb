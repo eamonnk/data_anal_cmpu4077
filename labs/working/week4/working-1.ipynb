{
 "cells": [
  {
   "cell_type": "code",
   "execution_count": 57,
   "metadata": {},
   "outputs": [],
   "source": [
    "#Import the data set\n",
    "\n",
    "import pandas as pd\n",
    "import numpy as np\n",
    "import os\n",
    "import seaborn as sns\n",
    "import matplotlib.pyplot as plt\n",
    "from ydata_profiling import ProfileReport\n",
    "import sweetviz as sv\n",
    "import copy\n",
    "from sklearn import model_selection\n",
    "from sklearn.metrics import accuracy_score, log_loss, confusion_matrix\n",
    "from sklearn.neighbors import KNeighborsClassifier\n",
    "from sklearn.tree import DecisionTreeClassifier\n",
    "from sklearn.ensemble import RandomForestClassifier\n",
    "from sklearn.linear_model import LogisticRegression\n",
    "from sklearn.naive_bayes import GaussianNB\n",
    "from sklearn import neural_network as nn\n",
    "from xgboost import XGBClassifier\n",
    "from sklearn.model_selection import GridSearchCV, RandomizedSearchCV\n",
    "from sklearn import metrics\n",
    "from sklearn.metrics import classification_report\n",
    "from sklearn.model_selection import cross_val_predict, cross_val_score\n",
    "from sklearn.model_selection import KFold\n",
    "from sklearn.metrics import roc_curve, auc\n",
    "from numpy import mean, std\n",
    "from sklearn.preprocessing import LabelEncoder\n",
    "from sklearn.model_selection import train_test_split\n",
    "from sklearn import tree\n",
    "from sklearn import datasets\n",
    "from sklearn import svm\n",
    "from sklearn import preprocessing \n",
    "from imblearn.over_sampling import SMOTE\n",
    "# columns = ['preg', 'plas', 'pres', 'skin', 'test', 'mass', 'pedi', 'age', 'class']\n",
    "# data = pd.read_csv('pima-indians-diabetes.csv', names=columns)\n",
    "# data.head()"
   ]
  },
  {
   "cell_type": "code",
   "execution_count": 58,
   "metadata": {},
   "outputs": [],
   "source": [
    "bd_df_add_full=pd.read_csv('bank-additional-full.csv', sep=';', skipinitialspace=True)"
   ]
  },
  {
   "cell_type": "code",
   "execution_count": 59,
   "metadata": {},
   "outputs": [
    {
     "data": {
      "text/plain": [
       "(41188, 21)"
      ]
     },
     "execution_count": 59,
     "metadata": {},
     "output_type": "execute_result"
    }
   ],
   "source": [
    "bd_df_add_full.shape"
   ]
  },
  {
   "cell_type": "code",
   "execution_count": 60,
   "metadata": {},
   "outputs": [
    {
     "data": {
      "text/plain": [
       "Index(['age', 'job', 'marital', 'education', 'default', 'housing', 'loan',\n",
       "       'contact', 'month', 'day_of_week', 'duration', 'campaign', 'pdays',\n",
       "       'previous', 'poutcome', 'emp.var.rate', 'cons.price.idx',\n",
       "       'cons.conf.idx', 'euribor3m', 'nr.employed', 'y'],\n",
       "      dtype='object')"
      ]
     },
     "execution_count": 60,
     "metadata": {},
     "output_type": "execute_result"
    }
   ],
   "source": [
    "bd_df_add_full.columns"
   ]
  },
  {
   "cell_type": "code",
   "execution_count": 61,
   "metadata": {},
   "outputs": [
    {
     "data": {
      "text/plain": [
       "age                 78\n",
       "job                 12\n",
       "marital              4\n",
       "education            8\n",
       "default              3\n",
       "housing              3\n",
       "loan                 3\n",
       "contact              2\n",
       "month               10\n",
       "day_of_week          5\n",
       "duration          1544\n",
       "campaign            42\n",
       "pdays               27\n",
       "previous             8\n",
       "poutcome             3\n",
       "emp.var.rate        10\n",
       "cons.price.idx      26\n",
       "cons.conf.idx       26\n",
       "euribor3m          316\n",
       "nr.employed         11\n",
       "y                    2\n",
       "dtype: int64"
      ]
     },
     "execution_count": 61,
     "metadata": {},
     "output_type": "execute_result"
    }
   ],
   "source": [
    "\n",
    "bd_df_add_full.nunique()"
   ]
  },
  {
   "cell_type": "code",
   "execution_count": 63,
   "metadata": {},
   "outputs": [
    {
     "data": {
      "text/plain": [
       "y\n",
       "no     36548\n",
       "yes     4640\n",
       "Name: count, dtype: int64"
      ]
     },
     "execution_count": 63,
     "metadata": {},
     "output_type": "execute_result"
    }
   ],
   "source": [
    "bd_df_add_full['y'].value_counts()"
   ]
  },
  {
   "cell_type": "code",
   "execution_count": 48,
   "metadata": {},
   "outputs": [
    {
     "data": {
      "application/vnd.microsoft.datawrangler.viewer.v0+json": {
       "columns": [
        {
         "name": "index",
         "rawType": "int64",
         "type": "integer"
        },
        {
         "name": "age",
         "rawType": "int64",
         "type": "integer"
        },
        {
         "name": "duration",
         "rawType": "int64",
         "type": "integer"
        },
        {
         "name": "campaign",
         "rawType": "int64",
         "type": "integer"
        },
        {
         "name": "pdays",
         "rawType": "int64",
         "type": "integer"
        },
        {
         "name": "previous",
         "rawType": "int64",
         "type": "integer"
        },
        {
         "name": "emp.var.rate",
         "rawType": "float64",
         "type": "float"
        },
        {
         "name": "cons.price.idx",
         "rawType": "float64",
         "type": "float"
        },
        {
         "name": "cons.conf.idx",
         "rawType": "float64",
         "type": "float"
        },
        {
         "name": "euribor3m",
         "rawType": "float64",
         "type": "float"
        },
        {
         "name": "nr.employed",
         "rawType": "float64",
         "type": "float"
        },
        {
         "name": "job",
         "rawType": "int32",
         "type": "integer"
        },
        {
         "name": "marital",
         "rawType": "int32",
         "type": "integer"
        },
        {
         "name": "education",
         "rawType": "int32",
         "type": "integer"
        },
        {
         "name": "default",
         "rawType": "int32",
         "type": "integer"
        },
        {
         "name": "housing",
         "rawType": "int32",
         "type": "integer"
        },
        {
         "name": "loan",
         "rawType": "int32",
         "type": "integer"
        },
        {
         "name": "contact",
         "rawType": "int32",
         "type": "integer"
        },
        {
         "name": "month",
         "rawType": "int32",
         "type": "integer"
        },
        {
         "name": "day_of_week",
         "rawType": "int32",
         "type": "integer"
        },
        {
         "name": "poutcome",
         "rawType": "int32",
         "type": "integer"
        },
        {
         "name": "y",
         "rawType": "int32",
         "type": "integer"
        }
       ],
       "conversionMethod": "pd.DataFrame",
       "ref": "4303ce26-b839-4b44-94be-7eb890fbda71",
       "rows": [
        [
         "0",
         "56",
         "261",
         "1",
         "999",
         "0",
         "1.1",
         "93.994",
         "-36.4",
         "4.857",
         "5191.0",
         "3",
         "1",
         "0",
         "0",
         "0",
         "0",
         "1",
         "6",
         "1",
         "1",
         "0"
        ],
        [
         "1",
         "57",
         "149",
         "1",
         "999",
         "0",
         "1.1",
         "93.994",
         "-36.4",
         "4.857",
         "5191.0",
         "7",
         "1",
         "3",
         "1",
         "0",
         "0",
         "1",
         "6",
         "1",
         "1",
         "0"
        ],
        [
         "2",
         "37",
         "226",
         "1",
         "999",
         "0",
         "1.1",
         "93.994",
         "-36.4",
         "4.857",
         "5191.0",
         "7",
         "1",
         "3",
         "0",
         "2",
         "0",
         "1",
         "6",
         "1",
         "1",
         "0"
        ],
        [
         "3",
         "40",
         "151",
         "1",
         "999",
         "0",
         "1.1",
         "93.994",
         "-36.4",
         "4.857",
         "5191.0",
         "0",
         "1",
         "1",
         "0",
         "0",
         "0",
         "1",
         "6",
         "1",
         "1",
         "0"
        ],
        [
         "4",
         "56",
         "307",
         "1",
         "999",
         "0",
         "1.1",
         "93.994",
         "-36.4",
         "4.857",
         "5191.0",
         "7",
         "1",
         "3",
         "0",
         "0",
         "2",
         "1",
         "6",
         "1",
         "1",
         "0"
        ]
       ],
       "shape": {
        "columns": 21,
        "rows": 5
       }
      },
      "text/html": [
       "<div>\n",
       "<style scoped>\n",
       "    .dataframe tbody tr th:only-of-type {\n",
       "        vertical-align: middle;\n",
       "    }\n",
       "\n",
       "    .dataframe tbody tr th {\n",
       "        vertical-align: top;\n",
       "    }\n",
       "\n",
       "    .dataframe thead th {\n",
       "        text-align: right;\n",
       "    }\n",
       "</style>\n",
       "<table border=\"1\" class=\"dataframe\">\n",
       "  <thead>\n",
       "    <tr style=\"text-align: right;\">\n",
       "      <th></th>\n",
       "      <th>age</th>\n",
       "      <th>duration</th>\n",
       "      <th>campaign</th>\n",
       "      <th>pdays</th>\n",
       "      <th>previous</th>\n",
       "      <th>emp.var.rate</th>\n",
       "      <th>cons.price.idx</th>\n",
       "      <th>cons.conf.idx</th>\n",
       "      <th>euribor3m</th>\n",
       "      <th>nr.employed</th>\n",
       "      <th>...</th>\n",
       "      <th>marital</th>\n",
       "      <th>education</th>\n",
       "      <th>default</th>\n",
       "      <th>housing</th>\n",
       "      <th>loan</th>\n",
       "      <th>contact</th>\n",
       "      <th>month</th>\n",
       "      <th>day_of_week</th>\n",
       "      <th>poutcome</th>\n",
       "      <th>y</th>\n",
       "    </tr>\n",
       "  </thead>\n",
       "  <tbody>\n",
       "    <tr>\n",
       "      <th>0</th>\n",
       "      <td>56</td>\n",
       "      <td>261</td>\n",
       "      <td>1</td>\n",
       "      <td>999</td>\n",
       "      <td>0</td>\n",
       "      <td>1.1</td>\n",
       "      <td>93.994</td>\n",
       "      <td>-36.4</td>\n",
       "      <td>4.857</td>\n",
       "      <td>5191.0</td>\n",
       "      <td>...</td>\n",
       "      <td>1</td>\n",
       "      <td>0</td>\n",
       "      <td>0</td>\n",
       "      <td>0</td>\n",
       "      <td>0</td>\n",
       "      <td>1</td>\n",
       "      <td>6</td>\n",
       "      <td>1</td>\n",
       "      <td>1</td>\n",
       "      <td>0</td>\n",
       "    </tr>\n",
       "    <tr>\n",
       "      <th>1</th>\n",
       "      <td>57</td>\n",
       "      <td>149</td>\n",
       "      <td>1</td>\n",
       "      <td>999</td>\n",
       "      <td>0</td>\n",
       "      <td>1.1</td>\n",
       "      <td>93.994</td>\n",
       "      <td>-36.4</td>\n",
       "      <td>4.857</td>\n",
       "      <td>5191.0</td>\n",
       "      <td>...</td>\n",
       "      <td>1</td>\n",
       "      <td>3</td>\n",
       "      <td>1</td>\n",
       "      <td>0</td>\n",
       "      <td>0</td>\n",
       "      <td>1</td>\n",
       "      <td>6</td>\n",
       "      <td>1</td>\n",
       "      <td>1</td>\n",
       "      <td>0</td>\n",
       "    </tr>\n",
       "    <tr>\n",
       "      <th>2</th>\n",
       "      <td>37</td>\n",
       "      <td>226</td>\n",
       "      <td>1</td>\n",
       "      <td>999</td>\n",
       "      <td>0</td>\n",
       "      <td>1.1</td>\n",
       "      <td>93.994</td>\n",
       "      <td>-36.4</td>\n",
       "      <td>4.857</td>\n",
       "      <td>5191.0</td>\n",
       "      <td>...</td>\n",
       "      <td>1</td>\n",
       "      <td>3</td>\n",
       "      <td>0</td>\n",
       "      <td>2</td>\n",
       "      <td>0</td>\n",
       "      <td>1</td>\n",
       "      <td>6</td>\n",
       "      <td>1</td>\n",
       "      <td>1</td>\n",
       "      <td>0</td>\n",
       "    </tr>\n",
       "    <tr>\n",
       "      <th>3</th>\n",
       "      <td>40</td>\n",
       "      <td>151</td>\n",
       "      <td>1</td>\n",
       "      <td>999</td>\n",
       "      <td>0</td>\n",
       "      <td>1.1</td>\n",
       "      <td>93.994</td>\n",
       "      <td>-36.4</td>\n",
       "      <td>4.857</td>\n",
       "      <td>5191.0</td>\n",
       "      <td>...</td>\n",
       "      <td>1</td>\n",
       "      <td>1</td>\n",
       "      <td>0</td>\n",
       "      <td>0</td>\n",
       "      <td>0</td>\n",
       "      <td>1</td>\n",
       "      <td>6</td>\n",
       "      <td>1</td>\n",
       "      <td>1</td>\n",
       "      <td>0</td>\n",
       "    </tr>\n",
       "    <tr>\n",
       "      <th>4</th>\n",
       "      <td>56</td>\n",
       "      <td>307</td>\n",
       "      <td>1</td>\n",
       "      <td>999</td>\n",
       "      <td>0</td>\n",
       "      <td>1.1</td>\n",
       "      <td>93.994</td>\n",
       "      <td>-36.4</td>\n",
       "      <td>4.857</td>\n",
       "      <td>5191.0</td>\n",
       "      <td>...</td>\n",
       "      <td>1</td>\n",
       "      <td>3</td>\n",
       "      <td>0</td>\n",
       "      <td>0</td>\n",
       "      <td>2</td>\n",
       "      <td>1</td>\n",
       "      <td>6</td>\n",
       "      <td>1</td>\n",
       "      <td>1</td>\n",
       "      <td>0</td>\n",
       "    </tr>\n",
       "  </tbody>\n",
       "</table>\n",
       "<p>5 rows × 21 columns</p>\n",
       "</div>"
      ],
      "text/plain": [
       "   age  duration  campaign  pdays  previous  emp.var.rate  cons.price.idx  \\\n",
       "0   56       261         1    999         0           1.1          93.994   \n",
       "1   57       149         1    999         0           1.1          93.994   \n",
       "2   37       226         1    999         0           1.1          93.994   \n",
       "3   40       151         1    999         0           1.1          93.994   \n",
       "4   56       307         1    999         0           1.1          93.994   \n",
       "\n",
       "   cons.conf.idx  euribor3m  nr.employed  ...  marital  education  default  \\\n",
       "0          -36.4      4.857       5191.0  ...        1          0        0   \n",
       "1          -36.4      4.857       5191.0  ...        1          3        1   \n",
       "2          -36.4      4.857       5191.0  ...        1          3        0   \n",
       "3          -36.4      4.857       5191.0  ...        1          1        0   \n",
       "4          -36.4      4.857       5191.0  ...        1          3        0   \n",
       "\n",
       "   housing  loan  contact  month  day_of_week  poutcome  y  \n",
       "0        0     0        1      6            1         1  0  \n",
       "1        0     0        1      6            1         1  0  \n",
       "2        2     0        1      6            1         1  0  \n",
       "3        0     0        1      6            1         1  0  \n",
       "4        0     2        1      6            1         1  0  \n",
       "\n",
       "[5 rows x 21 columns]"
      ]
     },
     "execution_count": 48,
     "metadata": {},
     "output_type": "execute_result"
    }
   ],
   "source": [
    "# encode categorical variables using label Encoder\n",
    "\n",
    "df_categorical = bd_df_add_full.select_dtypes(include=['object'])\n",
    "df_categorical.head()\n",
    "\n",
    "# applying label encoder to df_categorical\n",
    "le = preprocessing.LabelEncoder()\n",
    "df_categorical = df_categorical.apply(le.fit_transform)\n",
    "df_categorical.head()\n",
    "\n",
    "# Next, Concatenate df_categorical dataframe with original df (dataframe)\n",
    "\n",
    "# first, Drop earlier duplicate columns which had categorical values\n",
    "bd_df_add_full = bd_df_add_full.drop(df_categorical.columns, axis = 1)\n",
    "bd_df_add_full = pd.concat([bd_df_add_full,df_categorical], axis =1)\n",
    "bd_df_add_full.head()"
   ]
  },
  {
   "cell_type": "code",
   "execution_count": 51,
   "metadata": {},
   "outputs": [
    {
     "name": "stdout",
     "output_type": "stream",
     "text": [
      "Rows     :  41188\n",
      "Columns  :  21\n",
      "------\n",
      "\n",
      "Features : \n",
      " ['age', 'duration', 'campaign', 'pdays', 'previous', 'emp.var.rate', 'cons.price.idx', 'cons.conf.idx', 'euribor3m', 'nr.employed', 'job', 'marital', 'education', 'default', 'housing', 'loan', 'contact', 'month', 'day_of_week', 'poutcome', 'y']\n",
      "------\n",
      "\n",
      "Missing values :   0\n",
      "------\n",
      "\n",
      "Unique values :  \n",
      " age                 78\n",
      "duration          1544\n",
      "campaign            42\n",
      "pdays               27\n",
      "previous             8\n",
      "emp.var.rate        10\n",
      "cons.price.idx      26\n",
      "cons.conf.idx       26\n",
      "euribor3m          316\n",
      "nr.employed         11\n",
      "job                 12\n",
      "marital              4\n",
      "education            8\n",
      "default              3\n",
      "housing              3\n",
      "loan                 3\n",
      "contact              2\n",
      "month               10\n",
      "day_of_week          5\n",
      "poutcome             3\n",
      "y                    2\n",
      "dtype: int64\n",
      "------\n"
     ]
    }
   ],
   "source": [
    "print (\"Rows     : \" ,bd_df_add_full.shape[0])\n",
    "print (\"Columns  : \" ,bd_df_add_full.shape[1])\n",
    "print('------')\n",
    "print (\"\\nFeatures : \\n\" ,bd_df_add_full.columns.tolist())\n",
    "print('------')\n",
    "print (\"\\nMissing values :  \", bd_df_add_full.isnull().sum().values.sum())\n",
    "print('------')\n",
    "print (\"\\nUnique values :  \\n\",bd_df_add_full.nunique())\n",
    "print('------')"
   ]
  },
  {
   "cell_type": "code",
   "execution_count": 52,
   "metadata": {},
   "outputs": [
    {
     "data": {
      "application/vnd.microsoft.datawrangler.viewer.v0+json": {
       "columns": [
        {
         "name": "index",
         "rawType": "int64",
         "type": "integer"
        },
        {
         "name": "age",
         "rawType": "int64",
         "type": "integer"
        },
        {
         "name": "duration",
         "rawType": "int64",
         "type": "integer"
        },
        {
         "name": "campaign",
         "rawType": "int64",
         "type": "integer"
        },
        {
         "name": "pdays",
         "rawType": "int64",
         "type": "integer"
        },
        {
         "name": "previous",
         "rawType": "int64",
         "type": "integer"
        },
        {
         "name": "emp.var.rate",
         "rawType": "float64",
         "type": "float"
        },
        {
         "name": "cons.price.idx",
         "rawType": "float64",
         "type": "float"
        },
        {
         "name": "cons.conf.idx",
         "rawType": "float64",
         "type": "float"
        },
        {
         "name": "euribor3m",
         "rawType": "float64",
         "type": "float"
        },
        {
         "name": "nr.employed",
         "rawType": "float64",
         "type": "float"
        },
        {
         "name": "job",
         "rawType": "int32",
         "type": "integer"
        },
        {
         "name": "marital",
         "rawType": "int32",
         "type": "integer"
        },
        {
         "name": "education",
         "rawType": "int32",
         "type": "integer"
        },
        {
         "name": "default",
         "rawType": "int32",
         "type": "integer"
        },
        {
         "name": "housing",
         "rawType": "int32",
         "type": "integer"
        },
        {
         "name": "loan",
         "rawType": "int32",
         "type": "integer"
        },
        {
         "name": "contact",
         "rawType": "int32",
         "type": "integer"
        },
        {
         "name": "month",
         "rawType": "int32",
         "type": "integer"
        },
        {
         "name": "day_of_week",
         "rawType": "int32",
         "type": "integer"
        },
        {
         "name": "poutcome",
         "rawType": "int32",
         "type": "integer"
        },
        {
         "name": "y",
         "rawType": "int32",
         "type": "integer"
        }
       ],
       "conversionMethod": "pd.DataFrame",
       "ref": "86bbbdaa-dc7d-42eb-9463-fb9d160b56fe",
       "rows": [
        [
         "0",
         "56",
         "261",
         "1",
         "999",
         "0",
         "1.1",
         "93.994",
         "-36.4",
         "4.857",
         "5191.0",
         "3",
         "1",
         "0",
         "0",
         "0",
         "0",
         "1",
         "6",
         "1",
         "1",
         "0"
        ],
        [
         "1",
         "57",
         "149",
         "1",
         "999",
         "0",
         "1.1",
         "93.994",
         "-36.4",
         "4.857",
         "5191.0",
         "7",
         "1",
         "3",
         "1",
         "0",
         "0",
         "1",
         "6",
         "1",
         "1",
         "0"
        ],
        [
         "2",
         "37",
         "226",
         "1",
         "999",
         "0",
         "1.1",
         "93.994",
         "-36.4",
         "4.857",
         "5191.0",
         "7",
         "1",
         "3",
         "0",
         "2",
         "0",
         "1",
         "6",
         "1",
         "1",
         "0"
        ],
        [
         "3",
         "40",
         "151",
         "1",
         "999",
         "0",
         "1.1",
         "93.994",
         "-36.4",
         "4.857",
         "5191.0",
         "0",
         "1",
         "1",
         "0",
         "0",
         "0",
         "1",
         "6",
         "1",
         "1",
         "0"
        ],
        [
         "4",
         "56",
         "307",
         "1",
         "999",
         "0",
         "1.1",
         "93.994",
         "-36.4",
         "4.857",
         "5191.0",
         "7",
         "1",
         "3",
         "0",
         "0",
         "2",
         "1",
         "6",
         "1",
         "1",
         "0"
        ]
       ],
       "shape": {
        "columns": 21,
        "rows": 5
       }
      },
      "text/html": [
       "<div>\n",
       "<style scoped>\n",
       "    .dataframe tbody tr th:only-of-type {\n",
       "        vertical-align: middle;\n",
       "    }\n",
       "\n",
       "    .dataframe tbody tr th {\n",
       "        vertical-align: top;\n",
       "    }\n",
       "\n",
       "    .dataframe thead th {\n",
       "        text-align: right;\n",
       "    }\n",
       "</style>\n",
       "<table border=\"1\" class=\"dataframe\">\n",
       "  <thead>\n",
       "    <tr style=\"text-align: right;\">\n",
       "      <th></th>\n",
       "      <th>age</th>\n",
       "      <th>duration</th>\n",
       "      <th>campaign</th>\n",
       "      <th>pdays</th>\n",
       "      <th>previous</th>\n",
       "      <th>emp.var.rate</th>\n",
       "      <th>cons.price.idx</th>\n",
       "      <th>cons.conf.idx</th>\n",
       "      <th>euribor3m</th>\n",
       "      <th>nr.employed</th>\n",
       "      <th>...</th>\n",
       "      <th>marital</th>\n",
       "      <th>education</th>\n",
       "      <th>default</th>\n",
       "      <th>housing</th>\n",
       "      <th>loan</th>\n",
       "      <th>contact</th>\n",
       "      <th>month</th>\n",
       "      <th>day_of_week</th>\n",
       "      <th>poutcome</th>\n",
       "      <th>y</th>\n",
       "    </tr>\n",
       "  </thead>\n",
       "  <tbody>\n",
       "    <tr>\n",
       "      <th>0</th>\n",
       "      <td>56</td>\n",
       "      <td>261</td>\n",
       "      <td>1</td>\n",
       "      <td>999</td>\n",
       "      <td>0</td>\n",
       "      <td>1.1</td>\n",
       "      <td>93.994</td>\n",
       "      <td>-36.4</td>\n",
       "      <td>4.857</td>\n",
       "      <td>5191.0</td>\n",
       "      <td>...</td>\n",
       "      <td>1</td>\n",
       "      <td>0</td>\n",
       "      <td>0</td>\n",
       "      <td>0</td>\n",
       "      <td>0</td>\n",
       "      <td>1</td>\n",
       "      <td>6</td>\n",
       "      <td>1</td>\n",
       "      <td>1</td>\n",
       "      <td>0</td>\n",
       "    </tr>\n",
       "    <tr>\n",
       "      <th>1</th>\n",
       "      <td>57</td>\n",
       "      <td>149</td>\n",
       "      <td>1</td>\n",
       "      <td>999</td>\n",
       "      <td>0</td>\n",
       "      <td>1.1</td>\n",
       "      <td>93.994</td>\n",
       "      <td>-36.4</td>\n",
       "      <td>4.857</td>\n",
       "      <td>5191.0</td>\n",
       "      <td>...</td>\n",
       "      <td>1</td>\n",
       "      <td>3</td>\n",
       "      <td>1</td>\n",
       "      <td>0</td>\n",
       "      <td>0</td>\n",
       "      <td>1</td>\n",
       "      <td>6</td>\n",
       "      <td>1</td>\n",
       "      <td>1</td>\n",
       "      <td>0</td>\n",
       "    </tr>\n",
       "    <tr>\n",
       "      <th>2</th>\n",
       "      <td>37</td>\n",
       "      <td>226</td>\n",
       "      <td>1</td>\n",
       "      <td>999</td>\n",
       "      <td>0</td>\n",
       "      <td>1.1</td>\n",
       "      <td>93.994</td>\n",
       "      <td>-36.4</td>\n",
       "      <td>4.857</td>\n",
       "      <td>5191.0</td>\n",
       "      <td>...</td>\n",
       "      <td>1</td>\n",
       "      <td>3</td>\n",
       "      <td>0</td>\n",
       "      <td>2</td>\n",
       "      <td>0</td>\n",
       "      <td>1</td>\n",
       "      <td>6</td>\n",
       "      <td>1</td>\n",
       "      <td>1</td>\n",
       "      <td>0</td>\n",
       "    </tr>\n",
       "    <tr>\n",
       "      <th>3</th>\n",
       "      <td>40</td>\n",
       "      <td>151</td>\n",
       "      <td>1</td>\n",
       "      <td>999</td>\n",
       "      <td>0</td>\n",
       "      <td>1.1</td>\n",
       "      <td>93.994</td>\n",
       "      <td>-36.4</td>\n",
       "      <td>4.857</td>\n",
       "      <td>5191.0</td>\n",
       "      <td>...</td>\n",
       "      <td>1</td>\n",
       "      <td>1</td>\n",
       "      <td>0</td>\n",
       "      <td>0</td>\n",
       "      <td>0</td>\n",
       "      <td>1</td>\n",
       "      <td>6</td>\n",
       "      <td>1</td>\n",
       "      <td>1</td>\n",
       "      <td>0</td>\n",
       "    </tr>\n",
       "    <tr>\n",
       "      <th>4</th>\n",
       "      <td>56</td>\n",
       "      <td>307</td>\n",
       "      <td>1</td>\n",
       "      <td>999</td>\n",
       "      <td>0</td>\n",
       "      <td>1.1</td>\n",
       "      <td>93.994</td>\n",
       "      <td>-36.4</td>\n",
       "      <td>4.857</td>\n",
       "      <td>5191.0</td>\n",
       "      <td>...</td>\n",
       "      <td>1</td>\n",
       "      <td>3</td>\n",
       "      <td>0</td>\n",
       "      <td>0</td>\n",
       "      <td>2</td>\n",
       "      <td>1</td>\n",
       "      <td>6</td>\n",
       "      <td>1</td>\n",
       "      <td>1</td>\n",
       "      <td>0</td>\n",
       "    </tr>\n",
       "  </tbody>\n",
       "</table>\n",
       "<p>5 rows × 21 columns</p>\n",
       "</div>"
      ],
      "text/plain": [
       "   age  duration  campaign  pdays  previous  emp.var.rate  cons.price.idx  \\\n",
       "0   56       261         1    999         0           1.1          93.994   \n",
       "1   57       149         1    999         0           1.1          93.994   \n",
       "2   37       226         1    999         0           1.1          93.994   \n",
       "3   40       151         1    999         0           1.1          93.994   \n",
       "4   56       307         1    999         0           1.1          93.994   \n",
       "\n",
       "   cons.conf.idx  euribor3m  nr.employed  ...  marital  education  default  \\\n",
       "0          -36.4      4.857       5191.0  ...        1          0        0   \n",
       "1          -36.4      4.857       5191.0  ...        1          3        1   \n",
       "2          -36.4      4.857       5191.0  ...        1          3        0   \n",
       "3          -36.4      4.857       5191.0  ...        1          1        0   \n",
       "4          -36.4      4.857       5191.0  ...        1          3        0   \n",
       "\n",
       "   housing  loan  contact  month  day_of_week  poutcome  y  \n",
       "0        0     0        1      6            1         1  0  \n",
       "1        0     0        1      6            1         1  0  \n",
       "2        2     0        1      6            1         1  0  \n",
       "3        0     0        1      6            1         1  0  \n",
       "4        0     2        1      6            1         1  0  \n",
       "\n",
       "[5 rows x 21 columns]"
      ]
     },
     "execution_count": 52,
     "metadata": {},
     "output_type": "execute_result"
    }
   ],
   "source": [
    "bd_df_add_full.head()"
   ]
  },
  {
   "cell_type": "code",
   "execution_count": 55,
   "metadata": {},
   "outputs": [
    {
     "name": "stdout",
     "output_type": "stream",
     "text": [
      "y\n",
      "0    36548\n",
      "1     4640\n",
      "Name: count, dtype: int64\n",
      "SMOTE over-sampling:\n",
      "y\n",
      "0    36548\n",
      "1    36548\n",
      "Name: count, dtype: int64\n"
     ]
    },
    {
     "data": {
      "image/png": "[encoded data removed]",
      "text/plain": [
       "<Figure size 640x480 with 1 Axes>"
      ]
     },
     "metadata": {},
     "output_type": "display_data"
    }
   ],
   "source": [
    "from imblearn.over_sampling import SMOTE\n",
    "\n",
    "print(bd_df_add_full['y'].value_counts())\n",
    "X = bd_df_add_full.drop('y', axis=1)\n",
    "Y = bd_df_add_full['y']\n",
    "\n",
    "sm = SMOTE(random_state=42)\n",
    "X_res, Y_res = sm.fit_resample(X, Y)\n",
    "\n",
    "df_smote_over = pd.concat([pd.DataFrame(X_res), pd.DataFrame(Y_res, columns=['y'])], axis=1)\n",
    "\n",
    "print('SMOTE over-sampling:')\n",
    "print(df_smote_over['y'].value_counts())\n",
    "\n",
    "df_smote_over['y'].value_counts().plot(kind='bar', title='Count (target)');\n",
    "\n",
    "bd_df_add_full=df_smote_over"
   ]
  },
  {
   "cell_type": "code",
   "execution_count": 56,
   "metadata": {},
   "outputs": [
    {
     "name": "stdout",
     "output_type": "stream",
     "text": [
      "Rows     :  73096\n",
      "Columns  :  21\n",
      "------\n",
      "\n",
      "Features : \n",
      " ['age', 'duration', 'campaign', 'pdays', 'previous', 'emp.var.rate', 'cons.price.idx', 'cons.conf.idx', 'euribor3m', 'nr.employed', 'job', 'marital', 'education', 'default', 'housing', 'loan', 'contact', 'month', 'day_of_week', 'poutcome', 'y']\n",
      "------\n",
      "\n",
      "Missing values :   0\n",
      "------\n",
      "\n",
      "Unique values :  \n",
      " age                  81\n",
      "duration           2062\n",
      "campaign             42\n",
      "pdays                28\n",
      "previous              8\n",
      "emp.var.rate       4834\n",
      "cons.price.idx    17641\n",
      "cons.conf.idx     17641\n",
      "euribor3m         29758\n",
      "nr.employed        4853\n",
      "job                  12\n",
      "marital               4\n",
      "education             8\n",
      "default               3\n",
      "housing               3\n",
      "loan                  3\n",
      "contact               2\n",
      "month                10\n",
      "day_of_week           5\n",
      "poutcome              3\n",
      "y                     2\n",
      "dtype: int64\n",
      "------\n"
     ]
    }
   ],
   "source": [
    "print (\"Rows     : \" ,bd_df_add_full.shape[0])\n",
    "print (\"Columns  : \" ,bd_df_add_full.shape[1])\n",
    "print('------')\n",
    "print (\"\\nFeatures : \\n\" ,bd_df_add_full.columns.tolist())\n",
    "print('------')\n",
    "print (\"\\nMissing values :  \", bd_df_add_full.isnull().sum().values.sum())\n",
    "print('------')\n",
    "print (\"\\nUnique values :  \\n\",bd_df_add_full.nunique())\n",
    "print('------')"
   ]
  }
 ],
 "metadata": {
  "kernelspec": {
   "display_name": "assignment-a",
   "language": "python",
   "name": "python3"
  },
  "language_info": {
   "codemirror_mode": {
    "name": "ipython",
    "version": 3
   },
   "file_extension": ".py",
   "mimetype": "text/x-python",
   "name": "python",
   "nbconvert_exporter": "python",
   "pygments_lexer": "ipython3",
   "version": "3.12.3"
  }
 },
 "nbformat": 4,
 "nbformat_minor": 2
}
