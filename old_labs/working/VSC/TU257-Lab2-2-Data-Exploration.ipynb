{
 "cells": [
  {
   "cell_type": "markdown",
   "metadata": {},
   "source": [
    "TU258 - Lab 2-2 - Data Exploration\n",
    "\n",
    "This lab gives an example of using Pandas dataframes for analysing data\n"
   ]
  },
  {
   "cell_type": "code",
   "execution_count": 1,
   "metadata": {},
   "outputs": [],
   "source": [
    "#import pandas\n",
    "import pandas as pd\n"
   ]
  },
  {
   "cell_type": "code",
   "execution_count": 2,
   "metadata": {},
   "outputs": [],
   "source": [
    "#reading a CSV File into a Panda\n",
    "videoReview = pd.read_csv('/Users/brendan.tierney/Dropbox/4-Datasets/Video_Games_Sales_as_at_22_Dec_2016.csv')"
   ]
  },
  {
   "cell_type": "code",
   "execution_count": 3,
   "metadata": {},
   "outputs": [
    {
     "name": "stdout",
     "output_type": "stream",
     "text": [
      "# print first 3 rows\n",
      "                Name Platform  Year_of_Release     Genre Publisher  NA_Sales  \\\n",
      "0         Wii Sports      Wii           2006.0    Sports  Nintendo     41.36   \n",
      "1  Super Mario Bros.      NES           1985.0  Platform  Nintendo     29.08   \n",
      "2     Mario Kart Wii      Wii           2008.0    Racing  Nintendo     15.68   \n",
      "\n",
      "   EU_Sales  JP_Sales  Other_Sales  Global_Sales  Critic_Score  Critic_Count  \\\n",
      "0     28.96      3.77         8.45         82.53          76.0          51.0   \n",
      "1      3.58      6.81         0.77         40.24           NaN           NaN   \n",
      "2     12.76      3.79         3.29         35.52          82.0          73.0   \n",
      "\n",
      "  User_Score  User_Count Developer Rating  \n",
      "0          8       322.0  Nintendo      E  \n",
      "1        NaN         NaN       NaN    NaN  \n",
      "2        8.3       709.0  Nintendo      E  \n"
     ]
    }
   ],
   "source": [
    "print('# print first 3 rows')\n",
    "print(videoReview[:3])\n",
    "\n"
   ]
  },
  {
   "cell_type": "code",
   "execution_count": 4,
   "metadata": {},
   "outputs": [
    {
     "data": {
      "text/html": [
       "<div>\n",
       "<style scoped>\n",
       "    .dataframe tbody tr th:only-of-type {\n",
       "        vertical-align: middle;\n",
       "    }\n",
       "\n",
       "    .dataframe tbody tr th {\n",
       "        vertical-align: top;\n",
       "    }\n",
       "\n",
       "    .dataframe thead th {\n",
       "        text-align: right;\n",
       "    }\n",
       "</style>\n",
       "<table border=\"1\" class=\"dataframe\">\n",
       "  <thead>\n",
       "    <tr style=\"text-align: right;\">\n",
       "      <th></th>\n",
       "      <th>Name</th>\n",
       "      <th>Platform</th>\n",
       "      <th>Year_of_Release</th>\n",
       "      <th>Genre</th>\n",
       "      <th>Publisher</th>\n",
       "      <th>NA_Sales</th>\n",
       "      <th>EU_Sales</th>\n",
       "      <th>JP_Sales</th>\n",
       "      <th>Other_Sales</th>\n",
       "      <th>Global_Sales</th>\n",
       "      <th>Critic_Score</th>\n",
       "      <th>Critic_Count</th>\n",
       "      <th>User_Score</th>\n",
       "      <th>User_Count</th>\n",
       "      <th>Developer</th>\n",
       "      <th>Rating</th>\n",
       "    </tr>\n",
       "  </thead>\n",
       "  <tbody>\n",
       "    <tr>\n",
       "      <th>0</th>\n",
       "      <td>Wii Sports</td>\n",
       "      <td>Wii</td>\n",
       "      <td>2006.0</td>\n",
       "      <td>Sports</td>\n",
       "      <td>Nintendo</td>\n",
       "      <td>41.36</td>\n",
       "      <td>28.96</td>\n",
       "      <td>3.77</td>\n",
       "      <td>8.45</td>\n",
       "      <td>82.53</td>\n",
       "      <td>76.0</td>\n",
       "      <td>51.0</td>\n",
       "      <td>8</td>\n",
       "      <td>322.0</td>\n",
       "      <td>Nintendo</td>\n",
       "      <td>E</td>\n",
       "    </tr>\n",
       "    <tr>\n",
       "      <th>1</th>\n",
       "      <td>Super Mario Bros.</td>\n",
       "      <td>NES</td>\n",
       "      <td>1985.0</td>\n",
       "      <td>Platform</td>\n",
       "      <td>Nintendo</td>\n",
       "      <td>29.08</td>\n",
       "      <td>3.58</td>\n",
       "      <td>6.81</td>\n",
       "      <td>0.77</td>\n",
       "      <td>40.24</td>\n",
       "      <td>NaN</td>\n",
       "      <td>NaN</td>\n",
       "      <td>NaN</td>\n",
       "      <td>NaN</td>\n",
       "      <td>NaN</td>\n",
       "      <td>NaN</td>\n",
       "    </tr>\n",
       "    <tr>\n",
       "      <th>2</th>\n",
       "      <td>Mario Kart Wii</td>\n",
       "      <td>Wii</td>\n",
       "      <td>2008.0</td>\n",
       "      <td>Racing</td>\n",
       "      <td>Nintendo</td>\n",
       "      <td>15.68</td>\n",
       "      <td>12.76</td>\n",
       "      <td>3.79</td>\n",
       "      <td>3.29</td>\n",
       "      <td>35.52</td>\n",
       "      <td>82.0</td>\n",
       "      <td>73.0</td>\n",
       "      <td>8.3</td>\n",
       "      <td>709.0</td>\n",
       "      <td>Nintendo</td>\n",
       "      <td>E</td>\n",
       "    </tr>\n",
       "  </tbody>\n",
       "</table>\n",
       "</div>"
      ],
      "text/plain": [
       "                Name Platform  Year_of_Release     Genre Publisher  NA_Sales  \\\n",
       "0         Wii Sports      Wii           2006.0    Sports  Nintendo     41.36   \n",
       "1  Super Mario Bros.      NES           1985.0  Platform  Nintendo     29.08   \n",
       "2     Mario Kart Wii      Wii           2008.0    Racing  Nintendo     15.68   \n",
       "\n",
       "   EU_Sales  JP_Sales  Other_Sales  Global_Sales  Critic_Score  Critic_Count  \\\n",
       "0     28.96      3.77         8.45         82.53          76.0          51.0   \n",
       "1      3.58      6.81         0.77         40.24           NaN           NaN   \n",
       "2     12.76      3.79         3.29         35.52          82.0          73.0   \n",
       "\n",
       "  User_Score  User_Count Developer Rating  \n",
       "0          8       322.0  Nintendo      E  \n",
       "1        NaN         NaN       NaN    NaN  \n",
       "2        8.3       709.0  Nintendo      E  "
      ]
     },
     "execution_count": 4,
     "metadata": {},
     "output_type": "execute_result"
    }
   ],
   "source": [
    "videoReview.head(3)"
   ]
  },
  {
   "cell_type": "code",
   "execution_count": 5,
   "metadata": {},
   "outputs": [
    {
     "name": "stdout",
     "output_type": "stream",
     "text": [
      "----------\n",
      "# print columns\n",
      "0                           Wii Sports\n",
      "1                    Super Mario Bros.\n",
      "2                       Mario Kart Wii\n",
      "3                    Wii Sports Resort\n",
      "4             Pokemon Red/Pokemon Blue\n",
      "                     ...              \n",
      "16714    Samurai Warriors: Sanada Maru\n",
      "16715                 LMA Manager 2007\n",
      "16716          Haitaka no Psychedelica\n",
      "16717                 Spirits & Spells\n",
      "16718              Winning Post 8 2016\n",
      "Name: Name, Length: 16719, dtype: object\n"
     ]
    }
   ],
   "source": [
    "print('----------')\n",
    "print('# print columns')\n",
    "print(videoReview['Name'])\n",
    "\n"
   ]
  },
  {
   "cell_type": "code",
   "execution_count": 6,
   "metadata": {},
   "outputs": [
    {
     "data": {
      "text/plain": [
       "0                           Wii Sports\n",
       "1                    Super Mario Bros.\n",
       "2                       Mario Kart Wii\n",
       "3                    Wii Sports Resort\n",
       "4             Pokemon Red/Pokemon Blue\n",
       "                     ...              \n",
       "16714    Samurai Warriors: Sanada Maru\n",
       "16715                 LMA Manager 2007\n",
       "16716          Haitaka no Psychedelica\n",
       "16717                 Spirits & Spells\n",
       "16718              Winning Post 8 2016\n",
       "Name: Name, Length: 16719, dtype: object"
      ]
     },
     "execution_count": 6,
     "metadata": {},
     "output_type": "execute_result"
    }
   ],
   "source": [
    "videoReview['Name']"
   ]
  },
  {
   "cell_type": "code",
   "execution_count": 7,
   "metadata": {},
   "outputs": [
    {
     "name": "stdout",
     "output_type": "stream",
     "text": [
      "----------\n",
      "# print columns, first 5 rows\n",
      "0                  Wii Sports\n",
      "1           Super Mario Bros.\n",
      "2              Mario Kart Wii\n",
      "3           Wii Sports Resort\n",
      "4    Pokemon Red/Pokemon Blue\n",
      "Name: Name, dtype: object\n"
     ]
    }
   ],
   "source": [
    "print('----------')\n",
    "print('# print columns, first 5 rows')\n",
    "print(videoReview['Name'][:5])\n",
    "\n",
    "#videoReview['Name'].head(5)\n",
    "#videoReview['Name'].tail(5)\n"
   ]
  },
  {
   "cell_type": "code",
   "execution_count": 8,
   "metadata": {},
   "outputs": [
    {
     "name": "stdout",
     "output_type": "stream",
     "text": [
      "----------\n",
      "# Platform #\n",
      "Platform\n",
      "PS2     2161\n",
      "DS      2152\n",
      "PS3     1331\n",
      "Wii     1320\n",
      "X360    1262\n",
      "PSP     1209\n",
      "PS      1197\n",
      "PC       974\n",
      "XB       824\n",
      "GBA      822\n",
      "GC       556\n",
      "3DS      520\n",
      "PSV      432\n",
      "PS4      393\n",
      "N64      319\n",
      "XOne     247\n",
      "SNES     239\n",
      "SAT      173\n",
      "WiiU     147\n",
      "2600     133\n",
      "NES       98\n",
      "GB        98\n",
      "DC        52\n",
      "GEN       29\n",
      "NG        12\n",
      "SCD        6\n",
      "WS         6\n",
      "3DO        3\n",
      "TG16       2\n",
      "GG         1\n",
      "PCFX       1\n",
      "Name: count, dtype: int64\n"
     ]
    }
   ],
   "source": [
    "print('----------')\n",
    "print('# Platform #')\n",
    "print(videoReview['Platform'].value_counts())\n",
    "\n"
   ]
  },
  {
   "cell_type": "code",
   "execution_count": 9,
   "metadata": {},
   "outputs": [
    {
     "name": "stdout",
     "output_type": "stream",
     "text": [
      "----------\n",
      "#shape\n",
      "Number of rows =  16719\n",
      "Number of columns =  16\n",
      "Shape =  (16719, 16)\n"
     ]
    }
   ],
   "source": [
    "print('----------')\n",
    "print('#shape')\n",
    "print('Number of rows = ', videoReview.shape[0])\n",
    "print('Number of columns = ', videoReview.shape[1])\n",
    "print('Shape = ', videoReview.shape)\n",
    "\n"
   ]
  },
  {
   "cell_type": "code",
   "execution_count": 10,
   "metadata": {},
   "outputs": [
    {
     "name": "stdout",
     "output_type": "stream",
     "text": [
      "----------\n",
      "# Name #\n",
      "Name\n",
      "Need for Speed: Most Wanted                         12\n",
      "FIFA 14                                              9\n",
      "Ratatouille                                          9\n",
      "LEGO Marvel Super Heroes                             9\n",
      "Madden NFL 07                                        9\n",
      "                                                    ..\n",
      "Jewels of the Tropical Lost Island                   1\n",
      "Sherlock Holmes and the Mystery of Osborne House     1\n",
      "The King of Fighters '95 (CD)                        1\n",
      "Megamind: Mega Team Unite                            1\n",
      "Haitaka no Psychedelica                              1\n",
      "Name: count, Length: 11562, dtype: int64\n"
     ]
    }
   ],
   "source": [
    "print('----------')\n",
    "print('# Name #')\n",
    "print(videoReview['Name'].value_counts())\n",
    "\n"
   ]
  },
  {
   "cell_type": "code",
   "execution_count": 11,
   "metadata": {},
   "outputs": [
    {
     "name": "stdout",
     "output_type": "stream",
     "text": [
      "----------\n",
      "#head\n",
      "                       Name Platform  Year_of_Release         Genre Publisher  \\\n",
      "0                Wii Sports      Wii           2006.0        Sports  Nintendo   \n",
      "1         Super Mario Bros.      NES           1985.0      Platform  Nintendo   \n",
      "2            Mario Kart Wii      Wii           2008.0        Racing  Nintendo   \n",
      "3         Wii Sports Resort      Wii           2009.0        Sports  Nintendo   \n",
      "4  Pokemon Red/Pokemon Blue       GB           1996.0  Role-Playing  Nintendo   \n",
      "\n",
      "   NA_Sales  EU_Sales  JP_Sales  Other_Sales  Global_Sales  Critic_Score  \\\n",
      "0     41.36     28.96      3.77         8.45         82.53          76.0   \n",
      "1     29.08      3.58      6.81         0.77         40.24           NaN   \n",
      "2     15.68     12.76      3.79         3.29         35.52          82.0   \n",
      "3     15.61     10.93      3.28         2.95         32.77          80.0   \n",
      "4     11.27      8.89     10.22         1.00         31.37           NaN   \n",
      "\n",
      "   Critic_Count User_Score  User_Count Developer Rating  \n",
      "0          51.0          8       322.0  Nintendo      E  \n",
      "1           NaN        NaN         NaN       NaN    NaN  \n",
      "2          73.0        8.3       709.0  Nintendo      E  \n",
      "3          73.0          8       192.0  Nintendo      E  \n",
      "4           NaN        NaN         NaN       NaN    NaN  \n",
      "                       Name Platform  Year_of_Release         Genre Publisher  \\\n",
      "0                Wii Sports      Wii           2006.0        Sports  Nintendo   \n",
      "1         Super Mario Bros.      NES           1985.0      Platform  Nintendo   \n",
      "2            Mario Kart Wii      Wii           2008.0        Racing  Nintendo   \n",
      "3         Wii Sports Resort      Wii           2009.0        Sports  Nintendo   \n",
      "4  Pokemon Red/Pokemon Blue       GB           1996.0  Role-Playing  Nintendo   \n",
      "5                    Tetris       GB           1989.0        Puzzle  Nintendo   \n",
      "6     New Super Mario Bros.       DS           2006.0      Platform  Nintendo   \n",
      "7                  Wii Play      Wii           2006.0          Misc  Nintendo   \n",
      "\n",
      "   NA_Sales  EU_Sales  JP_Sales  Other_Sales  Global_Sales  Critic_Score  \\\n",
      "0     41.36     28.96      3.77         8.45         82.53          76.0   \n",
      "1     29.08      3.58      6.81         0.77         40.24           NaN   \n",
      "2     15.68     12.76      3.79         3.29         35.52          82.0   \n",
      "3     15.61     10.93      3.28         2.95         32.77          80.0   \n",
      "4     11.27      8.89     10.22         1.00         31.37           NaN   \n",
      "5     23.20      2.26      4.22         0.58         30.26           NaN   \n",
      "6     11.28      9.14      6.50         2.88         29.80          89.0   \n",
      "7     13.96      9.18      2.93         2.84         28.92          58.0   \n",
      "\n",
      "   Critic_Count User_Score  User_Count Developer Rating  \n",
      "0          51.0          8       322.0  Nintendo      E  \n",
      "1           NaN        NaN         NaN       NaN    NaN  \n",
      "2          73.0        8.3       709.0  Nintendo      E  \n",
      "3          73.0          8       192.0  Nintendo      E  \n",
      "4           NaN        NaN         NaN       NaN    NaN  \n",
      "5           NaN        NaN         NaN       NaN    NaN  \n",
      "6          65.0        8.5       431.0  Nintendo      E  \n",
      "7          41.0        6.6       129.0  Nintendo      E  \n"
     ]
    }
   ],
   "source": [
    "print('----------')\n",
    "print('#head')\n",
    "print(videoReview.head())\n",
    "print(videoReview.head(8))\n",
    "\n"
   ]
  },
  {
   "cell_type": "code",
   "execution_count": 12,
   "metadata": {},
   "outputs": [
    {
     "name": "stdout",
     "output_type": "stream",
     "text": [
      "----------\n",
      "#tail\n",
      "                                Name Platform  Year_of_Release       Genre  \\\n",
      "16714  Samurai Warriors: Sanada Maru      PS3           2016.0      Action   \n",
      "16715               LMA Manager 2007     X360           2006.0      Sports   \n",
      "16716        Haitaka no Psychedelica      PSV           2016.0   Adventure   \n",
      "16717               Spirits & Spells      GBA           2003.0    Platform   \n",
      "16718            Winning Post 8 2016      PSV           2016.0  Simulation   \n",
      "\n",
      "          Publisher  NA_Sales  EU_Sales  JP_Sales  Other_Sales  Global_Sales  \\\n",
      "16714    Tecmo Koei      0.00      0.00      0.01          0.0          0.01   \n",
      "16715   Codemasters      0.00      0.01      0.00          0.0          0.01   \n",
      "16716  Idea Factory      0.00      0.00      0.01          0.0          0.01   \n",
      "16717       Wanadoo      0.01      0.00      0.00          0.0          0.01   \n",
      "16718    Tecmo Koei      0.00      0.00      0.01          0.0          0.01   \n",
      "\n",
      "       Critic_Score  Critic_Count User_Score  User_Count Developer Rating  \n",
      "16714           NaN           NaN        NaN         NaN       NaN    NaN  \n",
      "16715           NaN           NaN        NaN         NaN       NaN    NaN  \n",
      "16716           NaN           NaN        NaN         NaN       NaN    NaN  \n",
      "16717           NaN           NaN        NaN         NaN       NaN    NaN  \n",
      "16718           NaN           NaN        NaN         NaN       NaN    NaN  \n",
      "                                                   Name Platform  \\\n",
      "16711                                  Aiyoku no Eustia      PSV   \n",
      "16712                Woody Woodpecker in Crazy Castle 5      GBA   \n",
      "16713  SCORE International Baja 1000: The Official Game      PS2   \n",
      "16714                     Samurai Warriors: Sanada Maru      PS3   \n",
      "16715                                  LMA Manager 2007     X360   \n",
      "16716                           Haitaka no Psychedelica      PSV   \n",
      "16717                                  Spirits & Spells      GBA   \n",
      "16718                               Winning Post 8 2016      PSV   \n",
      "\n",
      "       Year_of_Release       Genre        Publisher  NA_Sales  EU_Sales  \\\n",
      "16711           2014.0        Misc  dramatic create      0.00      0.00   \n",
      "16712           2002.0    Platform            Kemco      0.01      0.00   \n",
      "16713           2008.0      Racing       Activision      0.00      0.00   \n",
      "16714           2016.0      Action       Tecmo Koei      0.00      0.00   \n",
      "16715           2006.0      Sports      Codemasters      0.00      0.01   \n",
      "16716           2016.0   Adventure     Idea Factory      0.00      0.00   \n",
      "16717           2003.0    Platform          Wanadoo      0.01      0.00   \n",
      "16718           2016.0  Simulation       Tecmo Koei      0.00      0.00   \n",
      "\n",
      "       JP_Sales  Other_Sales  Global_Sales  Critic_Score  Critic_Count  \\\n",
      "16711      0.01          0.0          0.01           NaN           NaN   \n",
      "16712      0.00          0.0          0.01           NaN           NaN   \n",
      "16713      0.00          0.0          0.01           NaN           NaN   \n",
      "16714      0.01          0.0          0.01           NaN           NaN   \n",
      "16715      0.00          0.0          0.01           NaN           NaN   \n",
      "16716      0.01          0.0          0.01           NaN           NaN   \n",
      "16717      0.00          0.0          0.01           NaN           NaN   \n",
      "16718      0.01          0.0          0.01           NaN           NaN   \n",
      "\n",
      "      User_Score  User_Count Developer Rating  \n",
      "16711        NaN         NaN       NaN    NaN  \n",
      "16712        NaN         NaN       NaN    NaN  \n",
      "16713        NaN         NaN       NaN    NaN  \n",
      "16714        NaN         NaN       NaN    NaN  \n",
      "16715        NaN         NaN       NaN    NaN  \n",
      "16716        NaN         NaN       NaN    NaN  \n",
      "16717        NaN         NaN       NaN    NaN  \n",
      "16718        NaN         NaN       NaN    NaN  \n"
     ]
    }
   ],
   "source": [
    "print('----------')\n",
    "print('#tail')\n",
    "print(videoReview.tail())\n",
    "print(videoReview.tail(8))\n",
    "\n"
   ]
  },
  {
   "cell_type": "code",
   "execution_count": 13,
   "metadata": {},
   "outputs": [
    {
     "name": "stdout",
     "output_type": "stream",
     "text": [
      "----------\n",
      "#Describe\n",
      "       Year_of_Release      NA_Sales      EU_Sales      JP_Sales  \\\n",
      "count     16450.000000  16719.000000  16719.000000  16719.000000   \n",
      "mean       2006.487356      0.263330      0.145025      0.077602   \n",
      "std           5.878995      0.813514      0.503283      0.308818   \n",
      "min        1980.000000      0.000000      0.000000      0.000000   \n",
      "25%        2003.000000      0.000000      0.000000      0.000000   \n",
      "50%        2007.000000      0.080000      0.020000      0.000000   \n",
      "75%        2010.000000      0.240000      0.110000      0.040000   \n",
      "max        2020.000000     41.360000     28.960000     10.220000   \n",
      "\n",
      "        Other_Sales  Global_Sales  Critic_Score  Critic_Count    User_Count  \n",
      "count  16719.000000  16719.000000   8137.000000   8137.000000   7590.000000  \n",
      "mean       0.047332      0.533543     68.967679     26.360821    162.229908  \n",
      "std        0.186710      1.547935     13.938165     18.980495    561.282326  \n",
      "min        0.000000      0.010000     13.000000      3.000000      4.000000  \n",
      "25%        0.000000      0.060000     60.000000     12.000000     10.000000  \n",
      "50%        0.010000      0.170000     71.000000     21.000000     24.000000  \n",
      "75%        0.030000      0.470000     79.000000     36.000000     81.000000  \n",
      "max       10.570000     82.530000     98.000000    113.000000  10665.000000  \n",
      "count     16719\n",
      "unique       31\n",
      "top         PS2\n",
      "freq       2161\n",
      "Name: Platform, dtype: object\n",
      "count    16450.000000\n",
      "mean      2006.487356\n",
      "std          5.878995\n",
      "min       1980.000000\n",
      "25%       2003.000000\n",
      "50%       2007.000000\n",
      "75%       2010.000000\n",
      "max       2020.000000\n",
      "Name: Year_of_Release, dtype: float64\n"
     ]
    }
   ],
   "source": [
    "print('----------')\n",
    "print('#Describe')\n",
    "print(videoReview.describe()) # calculates measures of central tendency\n",
    "print(videoReview['Platform'].describe())\n",
    "print(videoReview['Year_of_Release'].describe())\n",
    "\n"
   ]
  },
  {
   "cell_type": "code",
   "execution_count": 14,
   "metadata": {},
   "outputs": [
    {
     "name": "stdout",
     "output_type": "stream",
     "text": [
      "----------\n",
      "#info\n",
      "<class 'pandas.core.frame.DataFrame'>\n",
      "RangeIndex: 16719 entries, 0 to 16718\n",
      "Data columns (total 16 columns):\n",
      " #   Column           Non-Null Count  Dtype  \n",
      "---  ------           --------------  -----  \n",
      " 0   Name             16717 non-null  object \n",
      " 1   Platform         16719 non-null  object \n",
      " 2   Year_of_Release  16450 non-null  float64\n",
      " 3   Genre            16717 non-null  object \n",
      " 4   Publisher        16665 non-null  object \n",
      " 5   NA_Sales         16719 non-null  float64\n",
      " 6   EU_Sales         16719 non-null  float64\n",
      " 7   JP_Sales         16719 non-null  float64\n",
      " 8   Other_Sales      16719 non-null  float64\n",
      " 9   Global_Sales     16719 non-null  float64\n",
      " 10  Critic_Score     8137 non-null   float64\n",
      " 11  Critic_Count     8137 non-null   float64\n",
      " 12  User_Score       10015 non-null  object \n",
      " 13  User_Count       7590 non-null   float64\n",
      " 14  Developer        10096 non-null  object \n",
      " 15  Rating           9950 non-null   object \n",
      "dtypes: float64(9), object(7)\n",
      "memory usage: 2.0+ MB\n",
      "None\n"
     ]
    }
   ],
   "source": [
    "print('----------')\n",
    "print('#info')\n",
    "print(videoReview.info()) # memory footprint and datatypes"
   ]
  },
  {
   "cell_type": "code",
   "execution_count": 15,
   "metadata": {},
   "outputs": [
    {
     "name": "stdout",
     "output_type": "stream",
     "text": [
      "----------\n",
      "Transpose - Describe\n",
      "                   count         mean         std      min      25%      50%  \\\n",
      "Year_of_Release  16450.0  2006.487356    5.878995  1980.00  2003.00  2007.00   \n",
      "NA_Sales         16719.0     0.263330    0.813514     0.00     0.00     0.08   \n",
      "EU_Sales         16719.0     0.145025    0.503283     0.00     0.00     0.02   \n",
      "JP_Sales         16719.0     0.077602    0.308818     0.00     0.00     0.00   \n",
      "Other_Sales      16719.0     0.047332    0.186710     0.00     0.00     0.01   \n",
      "Global_Sales     16719.0     0.533543    1.547935     0.01     0.06     0.17   \n",
      "Critic_Score      8137.0    68.967679   13.938165    13.00    60.00    71.00   \n",
      "Critic_Count      8137.0    26.360821   18.980495     3.00    12.00    21.00   \n",
      "User_Count        7590.0   162.229908  561.282326     4.00    10.00    24.00   \n",
      "\n",
      "                     75%       max  \n",
      "Year_of_Release  2010.00   2020.00  \n",
      "NA_Sales            0.24     41.36  \n",
      "EU_Sales            0.11     28.96  \n",
      "JP_Sales            0.04     10.22  \n",
      "Other_Sales         0.03     10.57  \n",
      "Global_Sales        0.47     82.53  \n",
      "Critic_Score       79.00     98.00  \n",
      "Critic_Count       36.00    113.00  \n",
      "User_Count         81.00  10665.00  \n"
     ]
    }
   ],
   "source": [
    "print('----------')\n",
    "print('Transpose - Describe')\n",
    "print(videoReview.describe().transpose())\n",
    "\n"
   ]
  },
  {
   "cell_type": "code",
   "execution_count": 16,
   "metadata": {},
   "outputs": [
    {
     "name": "stdout",
     "output_type": "stream",
     "text": [
      "----------\n",
      "Iterate some rows from DF\n",
      "#### Printing row ####\n",
      "Wii Sports\n",
      "#### Printing row ####\n",
      "Super Mario Bros.\n",
      "#### Printing row ####\n",
      "Mario Kart Wii\n",
      "#### Printing row ####\n",
      "Wii Sports Resort\n",
      "#### Printing row ####\n",
      "Pokemon Red/Pokemon Blue\n",
      "#### Printing row ####\n",
      "Tetris\n",
      "#### Printing row ####\n",
      "New Super Mario Bros.\n",
      "#### Printing row ####\n",
      "Wii Play\n",
      "#### Printing row ####\n",
      "New Super Mario Bros. Wii\n"
     ]
    }
   ],
   "source": [
    "print('----------')\n",
    "print('Iterate some rows from DF')\n",
    "for i, row in videoReview[:9].iterrows():\n",
    " print('#### Printing row ####')\n",
    " print(row['Name'])\n",
    "\n"
   ]
  },
  {
   "cell_type": "code",
   "execution_count": 17,
   "metadata": {},
   "outputs": [
    {
     "name": "stdout",
     "output_type": "stream",
     "text": [
      "----------\n",
      "Group by Year, Platform by Count : \n",
      "                          Name  Genre  Publisher  NA_Sales  EU_Sales  \\\n",
      "Year_of_Release Platform                                               \n",
      "1980.0          2600         9      9          9         9         9   \n",
      "1981.0          2600        46     46         46        46        46   \n",
      "1982.0          2600        36     36         36        36        36   \n",
      "1983.0          2600        11     11         11        11        11   \n",
      "                NES          6      6          6         6         6   \n",
      "...                        ...    ...        ...       ...       ...   \n",
      "2016.0          X360        13     13         13        13        13   \n",
      "                XOne        87     87         87        87        87   \n",
      "2017.0          PS4          1      1          1         1         1   \n",
      "                PSV          2      2          2         2         2   \n",
      "2020.0          DS           1      1          1         1         1   \n",
      "\n",
      "                          JP_Sales  Other_Sales  Global_Sales  Critic_Score  \\\n",
      "Year_of_Release Platform                                                      \n",
      "1980.0          2600             9            9             9             0   \n",
      "1981.0          2600            46           46            46             0   \n",
      "1982.0          2600            36           36            36             0   \n",
      "1983.0          2600            11           11            11             0   \n",
      "                NES              6            6             6             0   \n",
      "...                            ...          ...           ...           ...   \n",
      "2016.0          X360            13           13            13             0   \n",
      "                XOne            87           87            87            60   \n",
      "2017.0          PS4              1            1             1             0   \n",
      "                PSV              2            2             2             0   \n",
      "2020.0          DS               1            1             1             0   \n",
      "\n",
      "                          Critic_Count  User_Score  User_Count  Developer  \\\n",
      "Year_of_Release Platform                                                    \n",
      "1980.0          2600                 0           0           0          0   \n",
      "1981.0          2600                 0           0           0          0   \n",
      "1982.0          2600                 0           0           0          0   \n",
      "1983.0          2600                 0           0           0          0   \n",
      "                NES                  0           0           0          0   \n",
      "...                                ...         ...         ...        ...   \n",
      "2016.0          X360                 0          12           7         12   \n",
      "                XOne                60          74          66         74   \n",
      "2017.0          PS4                  0           0           0          0   \n",
      "                PSV                  0           0           0          0   \n",
      "2020.0          DS                   0           1           0          1   \n",
      "\n",
      "                          Rating  \n",
      "Year_of_Release Platform          \n",
      "1980.0          2600           0  \n",
      "1981.0          2600           0  \n",
      "1982.0          2600           0  \n",
      "1983.0          2600           0  \n",
      "                NES            0  \n",
      "...                          ...  \n",
      "2016.0          X360          12  \n",
      "                XOne          71  \n",
      "2017.0          PS4            0  \n",
      "                PSV            0  \n",
      "2020.0          DS             1  \n",
      "\n",
      "[241 rows x 14 columns]\n"
     ]
    }
   ],
   "source": [
    "#Subsetting and ordering Pandas\n",
    "print('----------')\n",
    "print('Group by Year, Platform by Count : ')\n",
    "print(videoReview.groupby(['Year_of_Release','Platform']).count())\n",
    "\n"
   ]
  },
  {
   "cell_type": "code",
   "execution_count": 18,
   "metadata": {},
   "outputs": [
    {
     "name": "stdout",
     "output_type": "stream",
     "text": [
      "Group by : for Year=2016 group by Platform and count Global Sales\n",
      "Platform\n",
      "3DS     15.14\n",
      "PC       5.27\n",
      "PS3      3.58\n",
      "PS4     69.29\n",
      "PSV      4.27\n",
      "Wii      0.18\n",
      "WiiU     4.58\n",
      "X360     1.52\n",
      "XOne    26.27\n",
      "Name: Global_Sales, dtype: float64\n"
     ]
    }
   ],
   "source": [
    "print('Group by : for Year=2016 group by Platform and count Global Sales')\n",
    "print(videoReview[videoReview.Year_of_Release==2016.0].groupby('Platform')['Global_Sales'].sum())"
   ]
  },
  {
   "cell_type": "code",
   "execution_count": 19,
   "metadata": {},
   "outputs": [
    {
     "name": "stdout",
     "output_type": "stream",
     "text": [
      "----------\n",
      "Sorting and Ordering\n",
      "                         Name Platform  Year_of_Release     Genre Publisher  \\\n",
      "15               Wii Fit Plus      Wii           2009.0    Sports  Nintendo   \n",
      "8   New Super Mario Bros. Wii      Wii           2009.0  Platform  Nintendo   \n",
      "7                    Wii Play      Wii           2006.0      Misc  Nintendo   \n",
      "3           Wii Sports Resort      Wii           2009.0    Sports  Nintendo   \n",
      "2              Mario Kart Wii      Wii           2008.0    Racing  Nintendo   \n",
      "0                  Wii Sports      Wii           2006.0    Sports  Nintendo   \n",
      "\n",
      "    NA_Sales  EU_Sales  JP_Sales  Other_Sales  Global_Sales  Critic_Score  \\\n",
      "15      9.01      8.49      2.53         1.77         21.79          80.0   \n",
      "8      14.44      6.94      4.70         2.24         28.32          87.0   \n",
      "7      13.96      9.18      2.93         2.84         28.92          58.0   \n",
      "3      15.61     10.93      3.28         2.95         32.77          80.0   \n",
      "2      15.68     12.76      3.79         3.29         35.52          82.0   \n",
      "0      41.36     28.96      3.77         8.45         82.53          76.0   \n",
      "\n",
      "    Critic_Count User_Score  User_Count Developer Rating  \n",
      "15          33.0        7.4        52.0  Nintendo      E  \n",
      "8           80.0        8.4       594.0  Nintendo      E  \n",
      "7           41.0        6.6       129.0  Nintendo      E  \n",
      "3           73.0          8       192.0  Nintendo      E  \n",
      "2           73.0        8.3       709.0  Nintendo      E  \n",
      "0           51.0          8       322.0  Nintendo      E  \n"
     ]
    }
   ],
   "source": [
    "#More Panda functions - Sorting & Ordering\n",
    "print('----------')\n",
    "print('Sorting and Ordering')\n",
    "df = videoReview[(videoReview.Platform=='Wii') & (videoReview.NA_Sales>9)]\n",
    "print(df.sort_values('Global_Sales', ascending=True))"
   ]
  },
  {
   "cell_type": "code",
   "execution_count": 20,
   "metadata": {},
   "outputs": [],
   "source": [
    "#Writing a Panda to a CSV file\n",
    "df.to_csv('/Users/brendan.tierney/video_games_wii.csv', sep=',')"
   ]
  },
  {
   "cell_type": "code",
   "execution_count": 21,
   "metadata": {},
   "outputs": [],
   "source": [
    "#Go inspect the CSV file created.\n",
    "#Is it what you expected?\n",
    "#Could the output be formatted differently?\n",
    "#If so, look up the Pandas 'to_csv' function to see what you can change\n"
   ]
  },
  {
   "cell_type": "code",
   "execution_count": 22,
   "metadata": {},
   "outputs": [
    {
     "name": "stdout",
     "output_type": "stream",
     "text": [
      "----------\n",
      "Plotting - Histogram\n"
     ]
    },
    {
     "data": {
      "text/plain": [
       "<Axes: ylabel='Frequency'>"
      ]
     },
     "execution_count": 22,
     "metadata": {},
     "output_type": "execute_result"
    },
    {
     "data": {
      "image/png": "[encoded data removed]",
      "text/plain": [
       "<Figure size 640x480 with 1 Axes>"
      ]
     },
     "metadata": {},
     "output_type": "display_data"
    }
   ],
   "source": [
    "#Creating Graphs for a Panda\n",
    "#plotting\n",
    "print('----------')\n",
    "print('Plotting - Histogram')\n",
    "videoReview['Year_of_Release'].plot(kind='hist')"
   ]
  },
  {
   "cell_type": "code",
   "execution_count": 23,
   "metadata": {},
   "outputs": [],
   "source": [
    "#If the chart does not appear in the above cell, just go back to that cell and rerun. It should appear now."
   ]
  },
  {
   "cell_type": "code",
   "execution_count": 24,
   "metadata": {},
   "outputs": [],
   "source": [
    "#Can you create any other plots?"
   ]
  },
  {
   "cell_type": "code",
   "execution_count": null,
   "metadata": {},
   "outputs": [],
   "source": []
  },
  {
   "cell_type": "code",
   "execution_count": null,
   "metadata": {},
   "outputs": [],
   "source": []
  },
  {
   "cell_type": "code",
   "execution_count": null,
   "metadata": {},
   "outputs": [],
   "source": []
  },
  {
   "cell_type": "code",
   "execution_count": null,
   "metadata": {},
   "outputs": [],
   "source": []
  }
 ],
 "metadata": {
  "kernelspec": {
   "display_name": "Python 3 (ipykernel)",
   "language": "python",
   "name": "python3"
  },
  "language_info": {
   "codemirror_mode": {
    "name": "ipython",
    "version": 3
   },
   "file_extension": ".py",
   "mimetype": "text/x-python",
   "name": "python",
   "nbconvert_exporter": "python",
   "pygments_lexer": "ipython3",
   "version": "3.12.4"
  }
 },
 "nbformat": 4,
 "nbformat_minor": 4
}
